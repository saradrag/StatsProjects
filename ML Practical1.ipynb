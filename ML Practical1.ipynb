{
 "cells": [
  {
   "cell_type": "markdown",
   "id": "58e91648",
   "metadata": {},
   "source": [
    "## Practical 1\n",
    "The goal of this parctical is to implement linear regression from scratch and to see how good the fit is wrt size of the training data. Optional problems implement ridge regresssion and lasso in sklearn, with polynomial features. The goal is then to see whichpolynomial degree is optimal using cross-validation."
   ]
  },
  {
   "cell_type": "code",
   "execution_count": 1,
   "id": "006348ab",
   "metadata": {},
   "outputs": [],
   "source": [
    "import _pickle as cp\n",
    "import numpy as np\n",
    "X, y = cp.load(open('winequality-white.pickle', 'rb'))"
   ]
  },
  {
   "cell_type": "code",
   "execution_count": 3,
   "id": "cdbec59d",
   "metadata": {},
   "outputs": [],
   "source": [
    "N, D = X.shape\n",
    "N_train = int(0.8 * N)\n",
    "N_test = N - N_train\n",
    "X_train = X[:N_train]\n",
    "y_train = y[:N_train]\n",
    "X_test = X[N_train:]\n",
    "y_test = y[N_train:]"
   ]
  },
  {
   "cell_type": "code",
   "execution_count": 4,
   "id": "9b11ac1d",
   "metadata": {},
   "outputs": [
    {
     "data": {
      "text/plain": [
       "(array([  20.,  163.,    0., 1457.,    0., 2198.,  880.,    0.,  175.,\n",
       "           5.]),\n",
       " array([3. , 3.6, 4.2, 4.8, 5.4, 6. , 6.6, 7.2, 7.8, 8.4, 9. ]),\n",
       " <BarContainer object of 10 artists>)"
      ]
     },
     "execution_count": 4,
     "metadata": {},
     "output_type": "execute_result"
    },
    {
     "data": {
      "image/png": "[encoded data removed]",
      "text/plain": [
       "<Figure size 432x288 with 1 Axes>"
      ]
     },
     "metadata": {
      "needs_background": "light"
     },
     "output_type": "display_data"
    }
   ],
   "source": [
    "# Handin 1\n",
    "import matplotlib.pyplot as plt\n",
    "\n",
    "plt.hist(y)"
   ]
  },
  {
   "cell_type": "code",
   "execution_count": 5,
   "id": "513cabed",
   "metadata": {},
   "outputs": [
    {
     "name": "stdout",
     "output_type": "stream",
     "text": [
      "MSE for training data is 0.7767772386501117\n",
      "MSE for test data is 0.8138573000045535\n"
     ]
    }
   ],
   "source": [
    "# Handin 2\n",
    "y_avg = y_train.mean()\n",
    "train_mse = ((y_train - y_avg) * (y_train - y_avg)).mean()\n",
    "print(f\"MSE for training data is {train_mse}\")\n",
    "test_mse = ((y_test - y_avg) * (y_test - y_avg)).mean()\n",
    "print(f\"MSE for test data is {test_mse}\")"
   ]
  },
  {
   "cell_type": "code",
   "execution_count": 6,
   "id": "db8f5ddd",
   "metadata": {},
   "outputs": [
    {
     "data": {
      "text/plain": [
       "(array([6.85427514e+00, 2.78390761e-01, 3.34892802e-01, 6.42623788e+00,\n",
       "        4.58213374e-02, 3.53263144e+01, 1.38513272e+02, 9.94040729e-01,\n",
       "        3.18647524e+00, 4.89055641e-01, 1.05115799e+01]),\n",
       " array([8.39100902e-01, 9.95630176e-02, 1.24249975e-01, 5.06377532e+00,\n",
       "        2.16660282e-02, 1.71004677e+01, 4.23956179e+01, 2.97972269e-03,\n",
       "        1.49949475e-01, 1.12992053e-01, 1.22536544e+00]))"
      ]
     },
     "execution_count": 6,
     "metadata": {},
     "output_type": "execute_result"
    }
   ],
   "source": [
    "mean = X_train.mean(axis=0)\n",
    "std = np.sqrt(((X_train - mean)*(X_train - mean)).mean(axis=0))\n",
    "mean, std"
   ]
  },
  {
   "cell_type": "code",
   "execution_count": 7,
   "id": "8d7dd3f7",
   "metadata": {},
   "outputs": [
    {
     "data": {
      "text/plain": [
       "(array([[ 0.88871893, -0.38559258,  0.84593335, ..., -0.84345239,\n",
       "         -1.05366384,  0.88824123],\n",
       "        [ 0.05449268,  1.32186873, -0.0393787 , ...,  0.09019543,\n",
       "          0.27386315, -0.90714153],\n",
       "        [ 3.74892322, -0.78734818,  0.44351878, ..., -1.24358716,\n",
       "         -0.61115484, -0.09105846],\n",
       "        ...,\n",
       "        [ 1.24624447,  0.71923533, -0.76372492, ..., -1.04351977,\n",
       "          0.89337574, -0.00945015],\n",
       "        [-1.1372591 ,  0.61879643, -0.28082744, ..., -0.643385  ,\n",
       "         -1.31916923,  1.21467446],\n",
       "        [-0.66055839,  0.21704082, -0.76372492, ...,  0.22357369,\n",
       "         -0.16864585, -0.82553323]]),\n",
       " array([[-0.18385767,  0.61879643,  1.65076248, ..., -0.97683064,\n",
       "          0.62787034, -1.39679138],\n",
       "        [ 1.24624447,  0.51835753, -0.44179327, ..., -0.24325022,\n",
       "         -0.96516204, -1.39679138],\n",
       "        [ 0.41201822,  0.31747972,  0.12158713, ..., -0.30993935,\n",
       "          0.36236495, -0.66231661],\n",
       "        ...,\n",
       "        [-0.66055839,  2.02494103, -2.37338318, ...,  0.35695195,\n",
       "         -1.14216564, -0.74392492],\n",
       "        [-1.25643428, -1.49042048, -0.92469075, ...,  0.89046499,\n",
       "         -0.61115484,  0.96984954],\n",
       "        [ 1.12706929,  0.41791862, -0.0393787 , ..., -0.77676326,\n",
       "          0.80487394, -0.74392492]]))"
      ]
     },
     "execution_count": 7,
     "metadata": {},
     "output_type": "execute_result"
    }
   ],
   "source": [
    "X_train_st = (X_train - mean)/std\n",
    "X_test_st = (X_test - mean)/std\n",
    "X_train_st, X_test_st"
   ]
  },
  {
   "cell_type": "code",
   "execution_count": 9,
   "id": "e46ec406",
   "metadata": {},
   "outputs": [
    {
     "data": {
      "text/plain": [
       "array([ 0.05703657, -0.18338422, -0.00404067,  0.40909728, -0.00817517,\n",
       "        0.05929295, -0.00356634, -0.43693678,  0.09873812,  0.06533251,\n",
       "        0.24249545])"
      ]
     },
     "execution_count": 9,
     "metadata": {},
     "output_type": "execute_result"
    }
   ],
   "source": [
    "w = ((np.linalg.inv((X_train_st.transpose())@X_train_st))@X_train_st.transpose())@y_train\n",
    "w"
   ]
  },
  {
   "cell_type": "code",
   "execution_count": 10,
   "id": "2cacd7d6",
   "metadata": {},
   "outputs": [
    {
     "data": {
      "text/plain": [
       "5.878764675855028"
      ]
     },
     "execution_count": 10,
     "metadata": {},
     "output_type": "execute_result"
    }
   ],
   "source": [
    "b = y_train.mean()\n",
    "b"
   ]
  },
  {
   "cell_type": "code",
   "execution_count": 11,
   "id": "81cd99fc",
   "metadata": {},
   "outputs": [
    {
     "data": {
      "text/plain": [
       "3918"
      ]
     },
     "execution_count": 11,
     "metadata": {},
     "output_type": "execute_result"
    }
   ],
   "source": [
    "y_train_pred = X_train_st@w + b\n",
    "y_test_pred = X_test_st@w + b\n",
    "len(y_train_pred)"
   ]
  },
  {
   "cell_type": "code",
   "execution_count": 12,
   "id": "853f0bd7",
   "metadata": {},
   "outputs": [
    {
     "data": {
      "text/plain": [
       "(array([6., 5., 6., ..., 6., 6., 5.]),\n",
       " array([6.32918031, 5.31315852, 5.59097424, ..., 5.96922013, 6.2828131 ,\n",
       "        5.4998735 ]))"
      ]
     },
     "execution_count": 12,
     "metadata": {},
     "output_type": "execute_result"
    }
   ],
   "source": [
    "y_train, y_train_pred"
   ]
  },
  {
   "cell_type": "code",
   "execution_count": 13,
   "id": "a3b3f9e7",
   "metadata": {},
   "outputs": [
    {
     "name": "stdout",
     "output_type": "stream",
     "text": [
      "MSE for training data is 0.5639996173941925\n",
      "MSE for test data is 0.56072920422927\n"
     ]
    }
   ],
   "source": [
    "# Handin 3\n",
    "train_mse = ((y_train - y_train_pred) * (y_train - y_train_pred)).mean()\n",
    "print(f\"MSE for training data is {train_mse}\")\n",
    "test_mse = ((y_test - y_test_pred) * (y_test - y_test_pred)).mean()\n",
    "print(f\"MSE for test data is {test_mse}\")"
   ]
  },
  {
   "cell_type": "code",
   "execution_count": 14,
   "id": "528a101a",
   "metadata": {},
   "outputs": [],
   "source": [
    "def calculate_loss(X_tr, y_tr, X_ts, y_ts):\n",
    "    m = X_tr.mean(axis=0)\n",
    "    s = np.sqrt(((X_tr-m)*(X_tr-m)).mean(axis=0))\n",
    "    X = (X_tr - m)/s\n",
    "    X_t = (X_ts -m)/s\n",
    "    w = np.linalg.inv(X.transpose()@X)@X.transpose()@y_tr\n",
    "    b = y_tr.mean()\n",
    "    y_pred = X@w + b\n",
    "    y_pred_t = X_t@w + b\n",
    "    mse = ((y_tr-y_pred)*(y_tr-y_pred)).mean()\n",
    "    mse_t = ((y_ts-y_pred_t)*(y_ts-y_pred_t)).mean()\n",
    "    return mse, mse_t\n",
    "    "
   ]
  },
  {
   "cell_type": "code",
   "execution_count": 15,
   "id": "226110af",
   "metadata": {},
   "outputs": [
    {
     "name": "stdout",
     "output_type": "stream",
     "text": [
      "\n",
      "In the beginning, our model is overfitting since training loss is much lower than test loss.\n",
      "The place where training loss increases can be clarified by the fact that variation in the training data is increasing.\n",
      "By increasing the training data, we prevent overfitting which can be verified by observing that train and test loss\n",
      "are similar.\n",
      "I would guess that at that point, our model is underfitting, i.e. not capable of representing the data, since loss is still\n",
      "pretty large (compared to loss of taking y_pred=y_train.mean())\n",
      "\n"
     ]
    },
    {
     "data": {
      "image/png": "[encoded data removed]",
      "text/plain": [
       "<Figure size 432x288 with 1 Axes>"
      ]
     },
     "metadata": {
      "needs_background": "light"
     },
     "output_type": "display_data"
    }
   ],
   "source": [
    "# Handin 4\n",
    "mse_train = {}\n",
    "mse_test = {}\n",
    "for i in range(20, len(X_train), 20):\n",
    "    mse_train[i], mse_test[i] = calculate_loss(X_train[:i], y_train[:i], X_test, y_test)\n",
    "plt.plot(mse_train.keys(), mse_train.values(), c='green')\n",
    "plt.plot(mse_test.keys(), mse_test.values(), c='red')\n",
    "\n",
    "print(\"\"\"\n",
    "In the beginning, our model is overfitting since training loss is much lower than test loss.\n",
    "The place where training loss increases can be clarified by the fact that variation in the training data is increasing.\n",
    "By increasing the training data, we prevent overfitting which can be verified by observing that train and test loss\n",
    "are similar.\n",
    "I would guess that at that point, our model is underfitting, i.e. not capable of representing the data, since loss is still\n",
    "pretty large (compared to loss of taking y_pred=y_train.mean())\n",
    "\"\"\")"
   ]
  },
  {
   "cell_type": "code",
   "execution_count": 35,
   "id": "2f775e40",
   "metadata": {},
   "outputs": [
    {
     "data": {
      "image/png": "[encoded data removed]",
      "text/plain": [
       "<Figure size 432x288 with 1 Axes>"
      ]
     },
     "metadata": {
      "needs_background": "light"
     },
     "output_type": "display_data"
    },
    {
     "data": {
      "image/png": "[encoded data removed]",
      "text/plain": [
       "<Figure size 432x288 with 1 Axes>"
      ]
     },
     "metadata": {
      "needs_background": "light"
     },
     "output_type": "display_data"
    }
   ],
   "source": [
    "# Optional\n",
    "\n",
    "from sklearn.linear_model import Lasso, Ridge\n",
    "from sklearn.preprocessing import PolynomialFeatures, StandardScaler\n",
    "from sklearn.pipeline import Pipeline\n",
    "from sklearn.model_selection import train_test_split\n",
    "from sklearn.metrics import mean_squared_error\n",
    "\n",
    "X_train_, X_valid, y_train_, y_valid = train_test_split(X_train, y_train, test_size=0.2)\n",
    "train_mse_ridge = {}\n",
    "valid_mse_ridge = {}\n",
    "train_mse_lasso = {}\n",
    "valid_mse_lasso = {}\n",
    "\n",
    "for i in range(-2,3):\n",
    "    pipe_ridge = Pipeline([('scaler', StandardScaler()), ('preprocessor', PolynomialFeatures(degree=2)),\n",
    "                           ('estimator', Ridge(alpha=10**i))])\n",
    "    pipe_lasso = Pipeline([('scaler', StandardScaler()), ('preprocessor', PolynomialFeatures(degree=2)),\n",
    "                           ('estimator', Lasso(alpha=10**i))])\n",
    "\n",
    "    pipe_ridge.fit(X_train_, y_train_)\n",
    "    pipe_lasso.fit(X_train_, y_train_)\n",
    "\n",
    "    y_train_ridge = pipe_ridge.predict(X_train_)\n",
    "    y_valid_ridge = pipe_ridge.predict(X_valid)\n",
    "    y_train_lasso = pipe_lasso.predict(X_train_)\n",
    "    y_valid_lasso = pipe_lasso.predict(X_valid)\n",
    "    \n",
    "    train_mse_ridge[i] = mean_squared_error(y_train_, y_train_ridge)\n",
    "    valid_mse_ridge[i] = mean_squared_error(y_valid, y_valid_ridge)\n",
    "    train_mse_lasso[i] = mean_squared_error(y_train_, y_train_lasso)\n",
    "    valid_mse_lasso[i] = mean_squared_error(y_valid, y_valid_lasso)\n",
    "    \n",
    "plt.plot(train_mse_ridge.keys(), train_mse_ridge.values(), c='green')\n",
    "plt.plot(valid_mse_ridge.keys(), valid_mse_ridge.values(), c='red')\n",
    "plt.show()\n",
    "plt.plot(train_mse_lasso.keys(), train_mse_lasso.values(), c='green')\n",
    "plt.plot(valid_mse_lasso.keys(), valid_mse_lasso.values(), c='red')\n",
    "plt.show()"
   ]
  },
  {
   "cell_type": "code",
   "execution_count": 17,
   "id": "47a41ea9",
   "metadata": {},
   "outputs": [
    {
     "name": "stdout",
     "output_type": "stream",
     "text": [
      "The conclusion would be that we should pick alpha=100 for ridge regression and alpha=-0.1 for lasso.\n"
     ]
    }
   ],
   "source": [
    "print(\"The conclusion would be that we should pick alpha=100 for ridge regression and alpha=-0.1 for lasso.\")"
   ]
  },
  {
   "cell_type": "code",
   "execution_count": 37,
   "id": "9bca5e59",
   "metadata": {},
   "outputs": [
    {
     "name": "stdout",
     "output_type": "stream",
     "text": [
      "MSE for train data using ridge regression is 0.4993481831145306\n",
      "MSE for test data using ridge regression is 0.5119067544028981\n",
      "MSE for train data using lasso regression is 0.601218527901034\n",
      "MSE for test data using lasso regression is 0.6100892531353018\n"
     ]
    }
   ],
   "source": [
    "pipe_ridge = Pipeline([('scaler', StandardScaler()), ('preprocessor', PolynomialFeatures(degree=2)),\n",
    "                           ('estimator', Ridge(alpha=100))])\n",
    "pipe_lasso = Pipeline([('scaler', StandardScaler()), ('preprocessor', PolynomialFeatures(degree=2)),\n",
    "                           ('estimator', Lasso(alpha=0.1))])\n",
    "\n",
    "pipe_ridge.fit(X_train, y_train)\n",
    "pipe_lasso.fit(X_train, y_train)\n",
    "\n",
    "y_train_ridge = pipe_ridge.predict(X_train)\n",
    "y_test_ridge = pipe_ridge.predict(X_test)\n",
    "y_train_lasso = pipe_lasso.predict(X_train)\n",
    "y_test_lasso = pipe_lasso.predict(X_test)\n",
    "   \n",
    "train_mse_ridge= mean_squared_error(y_train, y_train_ridge)\n",
    "test_mse_ridge = mean_squared_error(y_test, y_test_ridge)\n",
    "train_mse_lasso = mean_squared_error(y_train, y_train_lasso)\n",
    "test_mse_lasso = mean_squared_error(y_test, y_test_lasso)\n",
    "    \n",
    "print(f\"MSE for train data using ridge regression is {train_mse_ridge}\")\n",
    "print(f\"MSE for test data using ridge regression is {test_mse_ridge}\")\n",
    "print(f\"MSE for train data using lasso regression is {train_mse_lasso}\")\n",
    "print(f\"MSE for test data using lasso regression is {test_mse_lasso}\")"
   ]
  },
  {
   "cell_type": "code",
   "execution_count": 32,
   "id": "d5b6b2d4",
   "metadata": {},
   "outputs": [
    {
     "name": "stdout",
     "output_type": "stream",
     "text": [
      "For 1th degree polynomian, negative MSE is -0.5700061668353745\n",
      "For 2th degree polynomian, negative MSE is -0.5484530561526784\n",
      "For 3th degree polynomian, negative MSE is -3.4363791218452313\n",
      "For 4th degree polynomian, negative MSE is -420.4402111189232\n",
      "For 5th degree polynomian, negative MSE is -21375.6639439444\n",
      "For 6th degree polynomian, negative MSE is -866281.3510861587\n"
     ]
    },
    {
     "data": {
      "text/plain": [
       "[<matplotlib.lines.Line2D at 0x290800683a0>]"
      ]
     },
     "execution_count": 32,
     "metadata": {},
     "output_type": "execute_result"
    },
    {
     "data": {
      "image/png": "[encoded data removed]",
      "text/plain": [
       "<Figure size 432x288 with 1 Axes>"
      ]
     },
     "metadata": {
      "needs_background": "light"
     },
     "output_type": "display_data"
    }
   ],
   "source": [
    "# Super Optional\n",
    "\n",
    "from sklearn.model_selection import cross_val_score\n",
    "\n",
    "avg_scores=[0]\n",
    "for i in range(1, 7):\n",
    "    pipe = Pipeline([('scaler', StandardScaler()), ('preprocessor', PolynomialFeatures(degree=i)),\n",
    "                           ('estimator', Ridge(alpha=100))])\n",
    "    cv_scores = cross_val_score(pipe, X_train, y_train, cv=5, scoring='neg_mean_squared_error')\n",
    "    print(f\"For {i}th degree polynomian, negative MSE is {cv_scores.mean()}\")\n",
    "    avg_scores.append(cv_scores.mean())\n",
    "\n",
    "    \n",
    "plt.plot(avg_scores[1:])"
   ]
  },
  {
   "cell_type": "code",
   "execution_count": 34,
   "id": "3cdfd9b1",
   "metadata": {},
   "outputs": [
    {
     "name": "stdout",
     "output_type": "stream",
     "text": [
      "We can infer that the optimal degree polynomial is 2.\n"
     ]
    }
   ],
   "source": [
    "print(\"We can infer that the optimal degree polynomial is 2.\")"
   ]
  }
 ],
 "metadata": {
  "kernelspec": {
   "display_name": "Python 3 (ipykernel)",
   "language": "python",
   "name": "python3"
  },
  "language_info": {
   "codemirror_mode": {
    "name": "ipython",
    "version": 3
   },
   "file_extension": ".py",
   "mimetype": "text/x-python",
   "name": "python",
   "nbconvert_exporter": "python",
   "pygments_lexer": "ipython3",
   "version": "3.9.12"
  }
 },
 "nbformat": 4,
 "nbformat_minor": 5
}
